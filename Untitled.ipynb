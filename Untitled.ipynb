{
 "cells": [
  {
   "cell_type": "code",
   "execution_count": 1,
   "metadata": {
    "collapsed": true
   },
   "outputs": [],
   "source": [
    "from mean import mean"
   ]
  },
  {
   "cell_type": "code",
   "execution_count": 5,
   "metadata": {
    "collapsed": false
   },
   "outputs": [
    {
     "data": {
      "text/plain": [
       "2.0"
      ]
     },
     "execution_count": 5,
     "metadata": {},
     "output_type": "execute_result"
    }
   ],
   "source": [
    "mean([1,2,3])"
   ]
  },
  {
   "cell_type": "code",
   "execution_count": 6,
   "metadata": {
    "collapsed": true
   },
   "outputs": [],
   "source": [
    "def test_ints():\n",
    "\tnumbers = [1,2,3,4,5]   # set of test data\n",
    "\tobs = mean(numbers)     # using function\n",
    "\texp = 3 \t\t\t\t# expected value (you know mean of 1->5)\n",
    "\tassertobs == exp        # if function works, true assertion and therefor no return"
   ]
  },
  {
   "cell_type": "code",
   "execution_count": 9,
   "metadata": {
    "collapsed": true
   },
   "outputs": [],
   "source": [
    "def test_ints():\n",
    "\tnumbers = [1,2,3,4,5]   # set of test data\n",
    "\tobs = mean(numbers)     # using function\n",
    "\texp = 3 \t\t\t\t# expected value (you know mean of 1->5)\n",
    "\tassert obs == exp        # if function works, true assertion and therefor no return"
   ]
  },
  {
   "cell_type": "code",
   "execution_count": 10,
   "metadata": {
    "collapsed": false
   },
   "outputs": [],
   "source": [
    "test_ints()"
   ]
  },
  {
   "cell_type": "code",
   "execution_count": 11,
   "metadata": {
    "collapsed": true
   },
   "outputs": [],
   "source": [
    "def test_reals():\n",
    "\tnumbers = [1.0,2.0,3.0,4.0,5.0]   # set of test data\n",
    "\tobs = mean(numbers)     # using function\n",
    "\texp = 3.0 \t\t\t\t# expected value (you know mean of 1->5)\n",
    "\tassert obs == exp        # if function works, true assertion and therefor no return"
   ]
  },
  {
   "cell_type": "code",
   "execution_count": 13,
   "metadata": {
    "collapsed": false
   },
   "outputs": [],
   "source": [
    "test_reals()"
   ]
  },
  {
   "cell_type": "code",
   "execution_count": 14,
   "metadata": {
    "collapsed": true
   },
   "outputs": [],
   "source": [
    "def test_long():\n",
    "\tbig = 10000 \n",
    "\texp = big/2.0 # expected average\n",
    "\tobs = mean(range(1,big)) # create list of 1 --> 10000\n",
    "\tassert obs == exp "
   ]
  },
  {
   "cell_type": "code",
   "execution_count": null,
   "metadata": {
    "collapsed": true
   },
   "outputs": [],
   "source": []
  }
 ],
 "metadata": {
  "kernelspec": {
   "display_name": "Python 3",
   "language": "python",
   "name": "python3"
  },
  "language_info": {
   "codemirror_mode": {
    "name": "ipython",
    "version": 3
   },
   "file_extension": ".py",
   "mimetype": "text/x-python",
   "name": "python",
   "nbconvert_exporter": "python",
   "pygments_lexer": "ipython3",
   "version": "3.5.1"
  }
 },
 "nbformat": 4,
 "nbformat_minor": 0
}
